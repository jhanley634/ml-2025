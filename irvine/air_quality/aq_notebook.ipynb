{
 "cells": [
  {
   "cell_type": "code",
   "execution_count": null,
   "id": "0",
   "metadata": {},
   "outputs": [],
   "source": [
    "from importlib import reload\n",
    "import irvine.air_quality.aq_etl\n",
    "from irvine.air_quality.aq_etl import find_derivatives, get_air_quality_dataset\n",
    "\n",
    "reload(irvine.air_quality.aq_etl)\n",
    "\n",
    "df = get_air_quality_dataset(verbose=False)\n",
    "df"
   ]
  },
  {
   "cell_type": "code",
   "execution_count": null,
   "id": "1",
   "metadata": {},
   "outputs": [],
   "source": [
    "df1 = df[[\"stamp\", \"benzene\"]].copy()\n",
    "df1[\"missing\"] = df1.benzene.isnull()\n",
    "df1[\"group\"] = (df1.missing != df1.missing.shift()).cumsum()\n",
    "\n",
    "df = find_derivatives(df)\n",
    "\n",
    "mi = (\n",
    "    df1[df1.missing]\n",
    "    .groupby(\"group\")\n",
    "    .agg(\n",
    "        start=(\"stamp\", \"min\"),\n",
    "        end=(\"stamp\", \"max\"),\n",
    "    )\n",
    ")\n",
    "mi[\"elapsed\"] = mi.end - mi.start\n",
    "mi = mi.sort_values(by=\"start\")\n",
    "mi.sort_values(by=\"elapsed\")"
   ]
  },
  {
   "cell_type": "code",
   "execution_count": null,
   "id": "2",
   "metadata": {},
   "outputs": [],
   "source": [
    "import seaborn as sns\n",
    "\n",
    "sns.lineplot(x=\"hour\", y=\"benzene\", data=df)"
   ]
  },
  {
   "cell_type": "code",
   "execution_count": null,
   "id": "3",
   "metadata": {},
   "outputs": [],
   "source": [
    "sns.lineplot(x=\"hour\", y=\"benzene_deriv\", data=df)"
   ]
  },
  {
   "cell_type": "code",
   "execution_count": null,
   "id": "4",
   "metadata": {},
   "outputs": [],
   "source": [
    "df.describe()"
   ]
  }
 ],
 "metadata": {
  "kernelspec": {
   "display_name": "Python 3 (ipykernel)",
   "language": "python",
   "name": "python3"
  },
  "language_info": {
   "codemirror_mode": {
    "name": "ipython",
    "version": 3
   },
   "file_extension": ".py",
   "mimetype": "text/x-python",
   "name": "python",
   "nbconvert_exporter": "python",
   "pygments_lexer": "ipython3",
   "version": "3.12.7"
  }
 },
 "nbformat": 4,
 "nbformat_minor": 5
}
